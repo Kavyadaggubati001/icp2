{
  "nbformat": 4,
  "nbformat_minor": 0,
  "metadata": {
    "colab": {
      "provenance": [],
      "authorship_tag": "ABX9TyMu9TWxdFY5hy5rK+yc3RMp",
      "include_colab_link": true
    },
    "kernelspec": {
      "name": "python3",
      "display_name": "Python 3"
    },
    "language_info": {
      "name": "python"
    }
  },
  "cells": [
    {
      "cell_type": "markdown",
      "metadata": {
        "id": "view-in-github",
        "colab_type": "text"
      },
      "source": [
        "<a href=\"https://colab.research.google.com/github/Kavyadaggubati001/kavya_daggubati/blob/main/Untitled1.ipynb\" target=\"_parent\"><img src=\"https://colab.research.google.com/assets/colab-badge.svg\" alt=\"Open In Colab\"/></a>"
      ]
    },
    {
      "cell_type": "code",
      "execution_count": 1,
      "metadata": {
        "colab": {
          "base_uri": "https://localhost:8080/"
        },
        "id": "JxAd_IZzDTzR",
        "outputId": "607e3982-afb6-48c7-e7e8-38dca2b0ef5a"
      },
      "outputs": [
        {
          "output_type": "stream",
          "name": "stdout",
          "text": [
            "Enter your first name: kavya\n",
            "Enter your last name: daggubati\n",
            "Full name: kavya daggubati\n",
            "Alternate characters in the full name: kvadguai\n"
          ]
        }
      ],
      "source": [
        "def fullname(first_name, last_name):\n",
        "    full_name = f\"{first_name} {last_name}\"\n",
        "    return full_name\n",
        "\n",
        "def string_alternative(full_name):\n",
        "    return full_name[::2]\n",
        "\n",
        "def main():\n",
        "    first_name = input(\"Enter your first name: \")\n",
        "    last_name = input(\"Enter your last name: \")\n",
        "\n",
        "    full_name = fullname(first_name, last_name)\n",
        "    print(\"Full name:\", full_name)\n",
        "\n",
        "    alt_char = string_alternative(full_name)\n",
        "    print(\"Alternate characters in the full name:\", alt_char)\n",
        "\n",
        "if __name__ == \"__main__\":\n",
        "    main()"
      ]
    },
    {
      "cell_type": "code",
      "source": [
        "from collections import Counter\n",
        "\n",
        "with open('input.txt', 'r') as file:\n",
        "    lines = file.readlines()\n",
        "\n",
        "word_counts = Counter()\n",
        "\n",
        "for line in lines:\n",
        "    words = line.strip().split()\n",
        "    word_counts.update(words)\n",
        "print(\"Input:\")\n",
        "for line in lines:\n",
        "    print(line.strip())\n",
        "\n",
        "print(\"\\nWord_Count:\")\n",
        "for word, count in word_counts.items():\n",
        "    print(f\"{word}: {count}\")\n",
        "\n",
        "with open('output.txt', 'w') as output_file:\n",
        "    output_file.write(\"Input:\\n\")\n",
        "    output_file.writelines(lines)\n",
        "    output_file.write(\"\\nWord_Count:\\n\")\n",
        "    for word, count in word_counts.items():\n",
        "        output_file.write(f\"{word}: {count}\\n\")\n",
        "\n"
      ],
      "metadata": {
        "colab": {
          "base_uri": "https://localhost:8080/"
        },
        "id": "B6MK5ImYD1VN",
        "outputId": "288c63b2-71ed-4d7b-9292-775856af9c0d"
      },
      "execution_count": 5,
      "outputs": [
        {
          "output_type": "stream",
          "name": "stdout",
          "text": [
            "Input:\n",
            "Python Course\n",
            "Deep Learning Course\n",
            "\n",
            "Word_Count:\n",
            "Python: 1\n",
            "Course: 2\n",
            "Deep: 1\n",
            "Learning: 1\n"
          ]
        }
      ]
    },
    {
      "cell_type": "code",
      "source": [
        "def heights_nested(height_inches):\n",
        "    height_centimeters = []\n",
        "\n",
        "    for inch in height_inches:\n",
        "        cms = (inch * 2.54, 2)\n",
        "        height_centimeters.append(cms)\n",
        "\n",
        "    return height_centimeters\n",
        "\n",
        "def heights_comprehension(height_inches):\n",
        "    height_centimeters = [(inch * 2.54, 2) for inch in height_inches]\n",
        "\n",
        "    return height_centimeters\n",
        "\n",
        "def main():\n",
        "    height_inches = []\n",
        "    nof_customers = int(input(\"Enter the number of customers: \"))\n",
        "\n",
        "    for i in range(nof_customers):\n",
        "        height = float(input(f\"Enter height for customer {i+1} in inches: \"))\n",
        "        height_inches.append(height)\n",
        "\n",
        "    height_centimeters_nested = heights_nested(height_inches)\n",
        "    print(\"Heights in centimeters using Nested Loop are:\", height_centimeters_nested)\n",
        "\n",
        "    height_centimeters_comprehension = heights_comprehension(height_inches)\n",
        "    print(\"Heights in centimeters using List Comprehension are:\", height_centimeters_comprehension)\n",
        "\n",
        "if __name__ == \"__main__\":\n",
        "    main()\n"
      ],
      "metadata": {
        "colab": {
          "base_uri": "https://localhost:8080/"
        },
        "id": "mwyR7fc_EZtw",
        "outputId": "68895392-f850-435a-8a08-411a170c3e81"
      },
      "execution_count": 4,
      "outputs": [
        {
          "output_type": "stream",
          "name": "stdout",
          "text": [
            "Enter the number of customers: 4\n",
            "Enter height for customer 1 in inches: 150\n",
            "Enter height for customer 2 in inches: 130\n",
            "Enter height for customer 3 in inches: 145\n",
            "Enter height for customer 4 in inches: 140\n",
            "Heights in centimeters using Nested Loop are: [(381.0, 2), (330.2, 2), (368.3, 2), (355.6, 2)]\n",
            "Heights in centimeters using List Comprehension are: [(381.0, 2), (330.2, 2), (368.3, 2), (355.6, 2)]\n"
          ]
        }
      ]
    }
  ]
}